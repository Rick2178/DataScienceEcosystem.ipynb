{
 "cells": [
  {
   "cell_type": "markdown",
   "id": "1341dc33-3b1f-4827-a745-1a8bb8536737",
   "metadata": {},
   "source": [
    "# Data Science Tools and Ecosystem\n"
   ]
  },
  {
   "cell_type": "code",
   "execution_count": null,
   "id": "77301ee4-1931-4ff1-9e5f-ef223e64f8c7",
   "metadata": {},
   "outputs": [],
   "source": []
  },
  {
   "cell_type": "markdown",
   "id": "fccca619-3bd4-41d9-ba8d-8837182cbb81",
   "metadata": {},
   "source": [
    "**In questo notebook, verranno riassunti gli strumenti e l'ecosistema della Data Science.**"
   ]
  },
  {
   "cell_type": "code",
   "execution_count": null,
   "id": "30869549-1f92-4e87-b23f-e95bb3631329",
   "metadata": {},
   "outputs": [],
   "source": []
  },
  {
   "cell_type": "markdown",
   "id": "a9e2c44d-9dda-49d2-a8fc-100f288d00c7",
   "metadata": {},
   "source": [
    "**Alcuni dei linguaggi più utilizzati dai Data Scientist sono:**\n",
    "1. **Python:** Il linguaggio più popolare per la Data Science grazie alla sua semplicità e alla vasta gamma di librerie.\n",
    "2. **R:** Specificamente progettato per l'analisi statistica e la visualizzazione dei dati.\n",
    "3. **SQL:** Essenziale per interagire con i database relazionali e estrarre i dati.\n",
    "   "
   ]
  },
  {
   "cell_type": "markdown",
   "id": "7d7913fe-e5eb-48b9-b3fc-0c9059b6e815",
   "metadata": {},
   "source": [
    "**Obiettivi:**\n",
    "* Elencare i linguaggi più popolari per la Data Science.\n",
    "* Presentare alcune delle librerie più utilizzate per la Data Science.\n",
    "* Introducere gli strumenti di sviluppo open source più comuni per la Data Science.\n",
    "* Eseguire semplici operazioni aritmetiche in Python.\n",
    "* Convertire unità di misura (es. minuti in ore)."
   ]
  },
  {
   "cell_type": "markdown",
   "id": "c7ea83af-956e-4b83-aab1-ccbed23a43ca",
   "metadata": {},
   "source": [
    "**Alcune delle librerie più utilizzate dai Data Scientist includono:**"
   ]
  },
  {
   "cell_type": "markdown",
   "id": "35a81076-2e55-44af-b0d0-6d531e6224d1",
   "metadata": {},
   "source": [
    "**Alcune delle librerie più utilizzate dai Data Scientist includono:**\n",
    "1. **NumPy:** Fondamentale per operazioni matematiche su array e matrici.\n",
    "2. **Pandas:** Offre strumenti potenti per la manipolazione e l'analisi dei dati.\n",
    "3. **Matplotlib:** Utilizzata per creare visualizzazioni di dati statiche, animate e interattive.\n",
    "4. **Scikit-learn:** Una libreria completa per il machine learning, che offre algoritmi per la classificazione, la regressione, il clustering e altro ancora."
   ]
  },
  {
   "cell_type": "code",
   "execution_count": null,
   "id": "f5d8ef3c-9867-47aa-ae0d-04bab11864f1",
   "metadata": {},
   "outputs": [],
   "source": []
  },
  {
   "cell_type": "markdown",
   "id": "7fca57c6-d780-4696-b448-c6ab121e90de",
   "metadata": {},
   "source": [
    "| Strumenti di Data Science |\n",
    "|---|---|\n",
    "| Jupyter Notebook |\n",
    "| RStudio |\n",
    "| Visual Studio Code |"
   ]
  },
  {
   "cell_type": "code",
   "execution_count": null,
   "id": "df86f2c7-1c97-4b09-86b2-851f06fb3103",
   "metadata": {},
   "outputs": [],
   "source": []
  },
  {
   "cell_type": "markdown",
   "id": "deb16c74-b097-46ee-83b2-46cc33fe43dc",
   "metadata": {},
   "source": [
    "### Esempi di espressioni aritmetiche in Python\n",
    "Di seguito sono riportati alcuni esempi di valutazione di espressioni aritmetiche in Python."
   ]
  },
  {
   "cell_type": "code",
   "execution_count": 2,
   "id": "93ac9418-1c92-4caa-9bad-dd4abe56c1ed",
   "metadata": {},
   "outputs": [
    {
     "data": {
      "text/plain": [
       "17"
      ]
     },
     "execution_count": 2,
     "metadata": {},
     "output_type": "execute_result"
    }
   ],
   "source": [
    "# This is a simple arithmetic expression to multiply then add integers.\n",
    "(3 * 4) + 5"
   ]
  },
  {
   "cell_type": "code",
   "execution_count": 3,
   "id": "978c4ada-f660-43c4-bf07-00a5baf0c373",
   "metadata": {},
   "outputs": [
    {
     "data": {
      "text/plain": [
       "3.3333333333333335"
      ]
     },
     "execution_count": 3,
     "metadata": {},
     "output_type": "execute_result"
    }
   ],
   "source": [
    "# This will convert 200 minutes to hours by dividing by 60.\n",
    "200 / 60"
   ]
  },
  {
   "cell_type": "code",
   "execution_count": null,
   "id": "3c6cd504-5a05-4898-8a7a-a5f2cefb04b5",
   "metadata": {},
   "outputs": [],
   "source": []
  },
  {
   "cell_type": "markdown",
   "id": "28dd6125-5a5f-4a3b-b792-642b3251b9a9",
   "metadata": {},
   "source": [
    "## Author\n",
    "[Riccardo Patrizi]"
   ]
  },
  {
   "cell_type": "code",
   "execution_count": null,
   "id": "056eb27a-2921-4b40-ae39-98558b079ed0",
   "metadata": {},
   "outputs": [],
   "source": []
  }
 ],
 "metadata": {
  "kernelspec": {
   "display_name": "Python 3 (ipykernel)",
   "language": "python",
   "name": "python3"
  },
  "language_info": {
   "codemirror_mode": {
    "name": "ipython",
    "version": 3
   },
   "file_extension": ".py",
   "mimetype": "text/x-python",
   "name": "python",
   "nbconvert_exporter": "python",
   "pygments_lexer": "ipython3",
   "version": "3.11.9"
  }
 },
 "nbformat": 4,
 "nbformat_minor": 5
}
